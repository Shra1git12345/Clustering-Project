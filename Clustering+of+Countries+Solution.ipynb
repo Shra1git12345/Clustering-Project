{
 "cells": [
  {
   "cell_type": "markdown",
   "metadata": {},
   "source": [
    "# Clustering of Countries \n",
    "\n",
    "1. Data Understanding and Cleaning\n",
    "2. Data Preparation\n",
    "3. Modelling"
   ]
  },
  {
   "cell_type": "code",
   "execution_count": 1,
   "metadata": {},
   "outputs": [],
   "source": [
    "#import all the necessary libraries\n",
    "\n",
    "import pandas as pd\n",
    "import numpy as np\n",
    "import pandas as pd\n",
    "import statsmodels.api as sm\n",
    "import warnings\n",
    "warnings.filterwarnings(\"ignore\")\n",
    "\n",
    "# For Visualisation\n",
    "import matplotlib.pyplot as plt\n",
    "import seaborn as sns\n",
    "%matplotlib inline\n",
    "\n",
    "# To Scale our data\n",
    "from sklearn.preprocessing import scale\n",
    "\n",
    "# To perform KMeans clustering \n",
    "from sklearn.cluster import KMeans"
   ]
  },
  {
   "cell_type": "markdown",
   "metadata": {},
   "source": [
    "# Data Understanding"
   ]
  },
  {
   "cell_type": "code",
   "execution_count": 2,
   "metadata": {},
   "outputs": [
    {
     "data": {
      "text/html": [
       "<div>\n",
       "<style scoped>\n",
       "    .dataframe tbody tr th:only-of-type {\n",
       "        vertical-align: middle;\n",
       "    }\n",
       "\n",
       "    .dataframe tbody tr th {\n",
       "        vertical-align: top;\n",
       "    }\n",
       "\n",
       "    .dataframe thead th {\n",
       "        text-align: right;\n",
       "    }\n",
       "</style>\n",
       "<table border=\"1\" class=\"dataframe\">\n",
       "  <thead>\n",
       "    <tr style=\"text-align: right;\">\n",
       "      <th></th>\n",
       "      <th>country</th>\n",
       "      <th>child_mort</th>\n",
       "      <th>exports</th>\n",
       "      <th>health</th>\n",
       "      <th>imports</th>\n",
       "      <th>income</th>\n",
       "      <th>inflation</th>\n",
       "      <th>life_expec</th>\n",
       "      <th>total_fer</th>\n",
       "      <th>gdpp</th>\n",
       "    </tr>\n",
       "  </thead>\n",
       "  <tbody>\n",
       "    <tr>\n",
       "      <th>0</th>\n",
       "      <td>Afghanistan</td>\n",
       "      <td>90.2</td>\n",
       "      <td>10.0</td>\n",
       "      <td>7.58</td>\n",
       "      <td>44.9</td>\n",
       "      <td>1610</td>\n",
       "      <td>9.44</td>\n",
       "      <td>56.2</td>\n",
       "      <td>5.82</td>\n",
       "      <td>553</td>\n",
       "    </tr>\n",
       "    <tr>\n",
       "      <th>1</th>\n",
       "      <td>Albania</td>\n",
       "      <td>16.6</td>\n",
       "      <td>28.0</td>\n",
       "      <td>6.55</td>\n",
       "      <td>48.6</td>\n",
       "      <td>9930</td>\n",
       "      <td>4.49</td>\n",
       "      <td>76.3</td>\n",
       "      <td>1.65</td>\n",
       "      <td>4090</td>\n",
       "    </tr>\n",
       "    <tr>\n",
       "      <th>2</th>\n",
       "      <td>Algeria</td>\n",
       "      <td>27.3</td>\n",
       "      <td>38.4</td>\n",
       "      <td>4.17</td>\n",
       "      <td>31.4</td>\n",
       "      <td>12900</td>\n",
       "      <td>16.10</td>\n",
       "      <td>76.5</td>\n",
       "      <td>2.89</td>\n",
       "      <td>4460</td>\n",
       "    </tr>\n",
       "    <tr>\n",
       "      <th>3</th>\n",
       "      <td>Angola</td>\n",
       "      <td>119.0</td>\n",
       "      <td>62.3</td>\n",
       "      <td>2.85</td>\n",
       "      <td>42.9</td>\n",
       "      <td>5900</td>\n",
       "      <td>22.40</td>\n",
       "      <td>60.1</td>\n",
       "      <td>6.16</td>\n",
       "      <td>3530</td>\n",
       "    </tr>\n",
       "    <tr>\n",
       "      <th>4</th>\n",
       "      <td>Antigua and Barbuda</td>\n",
       "      <td>10.3</td>\n",
       "      <td>45.5</td>\n",
       "      <td>6.03</td>\n",
       "      <td>58.9</td>\n",
       "      <td>19100</td>\n",
       "      <td>1.44</td>\n",
       "      <td>76.8</td>\n",
       "      <td>2.13</td>\n",
       "      <td>12200</td>\n",
       "    </tr>\n",
       "  </tbody>\n",
       "</table>\n",
       "</div>"
      ],
      "text/plain": [
       "               country  child_mort  exports  health  imports  income  \\\n",
       "0          Afghanistan        90.2     10.0    7.58     44.9    1610   \n",
       "1              Albania        16.6     28.0    6.55     48.6    9930   \n",
       "2              Algeria        27.3     38.4    4.17     31.4   12900   \n",
       "3               Angola       119.0     62.3    2.85     42.9    5900   \n",
       "4  Antigua and Barbuda        10.3     45.5    6.03     58.9   19100   \n",
       "\n",
       "   inflation  life_expec  total_fer   gdpp  \n",
       "0       9.44        56.2       5.82    553  \n",
       "1       4.49        76.3       1.65   4090  \n",
       "2      16.10        76.5       2.89   4460  \n",
       "3      22.40        60.1       6.16   3530  \n",
       "4       1.44        76.8       2.13  12200  "
      ]
     },
     "execution_count": 2,
     "metadata": {},
     "output_type": "execute_result"
    }
   ],
   "source": [
    "#let's read the dataset\n",
    "dat = pd.read_csv('Country-data.csv')\n",
    "dat.head()"
   ]
  },
  {
   "attachments": {},
   "cell_type": "markdown",
   "metadata": {},
   "source": [
    "Let's convert imports, exports and health spending from  percentage values to actual values of their GDP per capita. Because the percentage values don't give a clear picture of that country. \n",
    "For eg. Afghanistan and Albania have similar imports percentage but their gdpp has a huge gap which doesn't give an accurate idea of which country is more developed than the other."
   ]
  },
  {
   "cell_type": "code",
   "execution_count": 3,
   "metadata": {},
   "outputs": [],
   "source": [
    "#Converting exports,imports and health spending percentages to absolute values.\n",
    "dat['exports'] = dat['exports']*dat['gdpp']/100\n",
    "dat['imports'] = dat['imports']*dat['gdpp']/100\n",
    "dat['health'] = dat['health']*dat['gdpp']/100"
   ]
  },
  {
   "cell_type": "code",
   "execution_count": 4,
   "metadata": {},
   "outputs": [
    {
     "data": {
      "text/html": [
       "<div>\n",
       "<style scoped>\n",
       "    .dataframe tbody tr th:only-of-type {\n",
       "        vertical-align: middle;\n",
       "    }\n",
       "\n",
       "    .dataframe tbody tr th {\n",
       "        vertical-align: top;\n",
       "    }\n",
       "\n",
       "    .dataframe thead th {\n",
       "        text-align: right;\n",
       "    }\n",
       "</style>\n",
       "<table border=\"1\" class=\"dataframe\">\n",
       "  <thead>\n",
       "    <tr style=\"text-align: right;\">\n",
       "      <th></th>\n",
       "      <th>country</th>\n",
       "      <th>child_mort</th>\n",
       "      <th>exports</th>\n",
       "      <th>health</th>\n",
       "      <th>imports</th>\n",
       "      <th>income</th>\n",
       "      <th>inflation</th>\n",
       "      <th>life_expec</th>\n",
       "      <th>total_fer</th>\n",
       "      <th>gdpp</th>\n",
       "    </tr>\n",
       "  </thead>\n",
       "  <tbody>\n",
       "    <tr>\n",
       "      <th>0</th>\n",
       "      <td>Afghanistan</td>\n",
       "      <td>90.2</td>\n",
       "      <td>55.30</td>\n",
       "      <td>41.9174</td>\n",
       "      <td>248.297</td>\n",
       "      <td>1610</td>\n",
       "      <td>9.44</td>\n",
       "      <td>56.2</td>\n",
       "      <td>5.82</td>\n",
       "      <td>553</td>\n",
       "    </tr>\n",
       "    <tr>\n",
       "      <th>1</th>\n",
       "      <td>Albania</td>\n",
       "      <td>16.6</td>\n",
       "      <td>1145.20</td>\n",
       "      <td>267.8950</td>\n",
       "      <td>1987.740</td>\n",
       "      <td>9930</td>\n",
       "      <td>4.49</td>\n",
       "      <td>76.3</td>\n",
       "      <td>1.65</td>\n",
       "      <td>4090</td>\n",
       "    </tr>\n",
       "    <tr>\n",
       "      <th>2</th>\n",
       "      <td>Algeria</td>\n",
       "      <td>27.3</td>\n",
       "      <td>1712.64</td>\n",
       "      <td>185.9820</td>\n",
       "      <td>1400.440</td>\n",
       "      <td>12900</td>\n",
       "      <td>16.10</td>\n",
       "      <td>76.5</td>\n",
       "      <td>2.89</td>\n",
       "      <td>4460</td>\n",
       "    </tr>\n",
       "    <tr>\n",
       "      <th>3</th>\n",
       "      <td>Angola</td>\n",
       "      <td>119.0</td>\n",
       "      <td>2199.19</td>\n",
       "      <td>100.6050</td>\n",
       "      <td>1514.370</td>\n",
       "      <td>5900</td>\n",
       "      <td>22.40</td>\n",
       "      <td>60.1</td>\n",
       "      <td>6.16</td>\n",
       "      <td>3530</td>\n",
       "    </tr>\n",
       "    <tr>\n",
       "      <th>4</th>\n",
       "      <td>Antigua and Barbuda</td>\n",
       "      <td>10.3</td>\n",
       "      <td>5551.00</td>\n",
       "      <td>735.6600</td>\n",
       "      <td>7185.800</td>\n",
       "      <td>19100</td>\n",
       "      <td>1.44</td>\n",
       "      <td>76.8</td>\n",
       "      <td>2.13</td>\n",
       "      <td>12200</td>\n",
       "    </tr>\n",
       "  </tbody>\n",
       "</table>\n",
       "</div>"
      ],
      "text/plain": [
       "               country  child_mort  exports    health   imports  income  \\\n",
       "0          Afghanistan        90.2    55.30   41.9174   248.297    1610   \n",
       "1              Albania        16.6  1145.20  267.8950  1987.740    9930   \n",
       "2              Algeria        27.3  1712.64  185.9820  1400.440   12900   \n",
       "3               Angola       119.0  2199.19  100.6050  1514.370    5900   \n",
       "4  Antigua and Barbuda        10.3  5551.00  735.6600  7185.800   19100   \n",
       "\n",
       "   inflation  life_expec  total_fer   gdpp  \n",
       "0       9.44        56.2       5.82    553  \n",
       "1       4.49        76.3       1.65   4090  \n",
       "2      16.10        76.5       2.89   4460  \n",
       "3      22.40        60.1       6.16   3530  \n",
       "4       1.44        76.8       2.13  12200  "
      ]
     },
     "execution_count": 4,
     "metadata": {},
     "output_type": "execute_result"
    }
   ],
   "source": [
    "dat.head()"
   ]
  },
  {
   "cell_type": "code",
   "execution_count": 5,
   "metadata": {},
   "outputs": [
    {
     "data": {
      "text/plain": [
       "(167, 10)"
      ]
     },
     "execution_count": 5,
     "metadata": {},
     "output_type": "execute_result"
    }
   ],
   "source": [
    "dat.shape"
   ]
  },
  {
   "cell_type": "code",
   "execution_count": 6,
   "metadata": {},
   "outputs": [
    {
     "name": "stdout",
     "output_type": "stream",
     "text": [
      "<class 'pandas.core.frame.DataFrame'>\n",
      "RangeIndex: 167 entries, 0 to 166\n",
      "Data columns (total 10 columns):\n",
      " #   Column      Non-Null Count  Dtype  \n",
      "---  ------      --------------  -----  \n",
      " 0   country     167 non-null    object \n",
      " 1   child_mort  167 non-null    float64\n",
      " 2   exports     167 non-null    float64\n",
      " 3   health      167 non-null    float64\n",
      " 4   imports     167 non-null    float64\n",
      " 5   income      167 non-null    int64  \n",
      " 6   inflation   167 non-null    float64\n",
      " 7   life_expec  167 non-null    float64\n",
      " 8   total_fer   167 non-null    float64\n",
      " 9   gdpp        167 non-null    int64  \n",
      "dtypes: float64(7), int64(2), object(1)\n",
      "memory usage: 13.2+ KB\n"
     ]
    }
   ],
   "source": [
    "#basic data checks\n",
    "dat.info()"
   ]
  },
  {
   "cell_type": "code",
   "execution_count": 7,
   "metadata": {},
   "outputs": [
    {
     "data": {
      "text/plain": [
       "country       0\n",
       "child_mort    0\n",
       "exports       0\n",
       "health        0\n",
       "imports       0\n",
       "income        0\n",
       "inflation     0\n",
       "life_expec    0\n",
       "total_fer     0\n",
       "gdpp          0\n",
       "dtype: int64"
      ]
     },
     "execution_count": 7,
     "metadata": {},
     "output_type": "execute_result"
    }
   ],
   "source": [
    "#basic data cleaning checks\n",
    "dat.isna().sum()"
   ]
  },
  {
   "cell_type": "markdown",
   "metadata": {},
   "source": [
    "# Data Preparation"
   ]
  },
  {
   "cell_type": "code",
   "execution_count": 8,
   "metadata": {},
   "outputs": [
    {
     "data": {
      "text/plain": [
       "<Axes: >"
      ]
     },
     "execution_count": 8,
     "metadata": {},
     "output_type": "execute_result"
    },
    {
     "data": {
      "image/png": "[encoded data removed]",
      "text/plain": [
       "<Figure size 2000x1000 with 2 Axes>"
      ]
     },
     "metadata": {},
     "output_type": "display_data"
    }
   ],
   "source": [
    "#So this data seems largely clean, but we have a lot of variables and making proper clusters will be a difficulty.\n",
    "#First let's plot the correlation matrix and check if the data is indeed highly correlated\n",
    "plt.figure(figsize = (20,10))        \n",
    "sns.heatmap(dat.corr(),annot = True)"
   ]
  },
  {
   "attachments": {},
   "cell_type": "markdown",
   "metadata": {},
   "source": [
    "A lot of highly correlated variables exist, hence we need to reduce the number of variables. \n",
    "Now let's proceed to doing it on the dataset. We observe that a lot of the data variables are of different orders of magnitude. So we will rescale them before we go ahead with reduction in variables."
   ]
  },
  {
   "cell_type": "code",
   "execution_count": 9,
   "metadata": {},
   "outputs": [
    {
     "name": "stdout",
     "output_type": "stream",
     "text": [
      "     child_mort   exports    health   imports    income  inflation  \\\n",
      "0      1.291532 -0.411011 -0.565040 -0.432276 -0.808245   0.157336   \n",
      "1     -0.538949 -0.350191 -0.439218 -0.313677 -0.375369  -0.312347   \n",
      "2     -0.272833 -0.318526 -0.484826 -0.353720 -0.220844   0.789274   \n",
      "3      2.007808 -0.291375 -0.532363 -0.345953 -0.585043   1.387054   \n",
      "4     -0.695634 -0.104331 -0.178771  0.040735  0.101732  -0.601749   \n",
      "..          ...       ...       ...       ...       ...        ...   \n",
      "162   -0.225578 -0.336864 -0.501562 -0.342488 -0.738527  -0.489784   \n",
      "163   -0.526514 -0.199393 -0.219310 -0.287205 -0.033542   3.616865   \n",
      "164   -0.372315 -0.361463 -0.538488 -0.377572 -0.658404   0.409732   \n",
      "165    0.448417 -0.392166 -0.550596 -0.418479 -0.658924   1.500916   \n",
      "166    1.114951 -0.383952 -0.540498 -0.418445 -0.721358   0.590015   \n",
      "\n",
      "     life_expec  total_fer      gdpp  \n",
      "0     -1.619092   1.902882 -0.679180  \n",
      "1      0.647866  -0.859973 -0.485623  \n",
      "2      0.670423  -0.038404 -0.465376  \n",
      "3     -1.179234   2.128151 -0.516268  \n",
      "4      0.704258  -0.541946 -0.041817  \n",
      "..          ...        ...       ...  \n",
      "162   -0.852161   0.365754 -0.546913  \n",
      "163    0.546361  -0.316678  0.029323  \n",
      "164    0.286958  -0.661206 -0.637754  \n",
      "165   -0.344633   1.140944 -0.637754  \n",
      "166   -2.092785   1.624609 -0.629546  \n",
      "\n",
      "[167 rows x 9 columns]\n"
     ]
    }
   ],
   "source": [
    "from sklearn.preprocessing import StandardScaler\n",
    "standard_scaler = StandardScaler()\n",
    "datm = standard_scaler.fit_transform(dat.drop(['country'],axis=1))\n",
    "datm = pd.DataFrame(datm)\n",
    "datm.columns =['child_mort', 'exports', 'health', 'imports', 'income', 'inflation', 'life_expec', 'total_fer', 'gdpp']\n",
    "print(datm)"
   ]
  },
  {
   "attachments": {},
   "cell_type": "markdown",
   "metadata": {},
   "source": [
    "We will use VIF iteratively and manually reduce the number of variables before clustering, as the number of features is less than 10."
   ]
  },
  {
   "cell_type": "code",
   "execution_count": 10,
   "metadata": {},
   "outputs": [],
   "source": [
    "from statsmodels.stats.outliers_influence import variance_inflation_factor\n",
    "\n",
    "def calc_vif(datm):\n",
    "\n",
    "    # Calculating VIF\n",
    "    vif = pd.DataFrame()\n",
    "    vif[\"variables\"] = datm.columns\n",
    "    vif[\"VIF\"] = [variance_inflation_factor(datm.values, i) for i in range(datm.shape[1])]\n",
    "\n",
    "    return(vif)"
   ]
  },
  {
   "cell_type": "code",
   "execution_count": 11,
   "metadata": {},
   "outputs": [
    {
     "data": {
      "text/html": [
       "<div>\n",
       "<style scoped>\n",
       "    .dataframe tbody tr th:only-of-type {\n",
       "        vertical-align: middle;\n",
       "    }\n",
       "\n",
       "    .dataframe tbody tr th {\n",
       "        vertical-align: top;\n",
       "    }\n",
       "\n",
       "    .dataframe thead th {\n",
       "        text-align: right;\n",
       "    }\n",
       "</style>\n",
       "<table border=\"1\" class=\"dataframe\">\n",
       "  <thead>\n",
       "    <tr style=\"text-align: right;\">\n",
       "      <th></th>\n",
       "      <th>variables</th>\n",
       "      <th>VIF</th>\n",
       "    </tr>\n",
       "  </thead>\n",
       "  <tbody>\n",
       "    <tr>\n",
       "      <th>0</th>\n",
       "      <td>child_mort</td>\n",
       "      <td>7.294127</td>\n",
       "    </tr>\n",
       "    <tr>\n",
       "      <th>1</th>\n",
       "      <td>exports</td>\n",
       "      <td>116.652517</td>\n",
       "    </tr>\n",
       "    <tr>\n",
       "      <th>2</th>\n",
       "      <td>health</td>\n",
       "      <td>18.818141</td>\n",
       "    </tr>\n",
       "    <tr>\n",
       "      <th>3</th>\n",
       "      <td>imports</td>\n",
       "      <td>101.647811</td>\n",
       "    </tr>\n",
       "    <tr>\n",
       "      <th>4</th>\n",
       "      <td>income</td>\n",
       "      <td>14.906308</td>\n",
       "    </tr>\n",
       "    <tr>\n",
       "      <th>5</th>\n",
       "      <td>inflation</td>\n",
       "      <td>1.200193</td>\n",
       "    </tr>\n",
       "    <tr>\n",
       "      <th>6</th>\n",
       "      <td>life_expec</td>\n",
       "      <td>6.006097</td>\n",
       "    </tr>\n",
       "    <tr>\n",
       "      <th>7</th>\n",
       "      <td>total_fer</td>\n",
       "      <td>3.896214</td>\n",
       "    </tr>\n",
       "    <tr>\n",
       "      <th>8</th>\n",
       "      <td>gdpp</td>\n",
       "      <td>49.647627</td>\n",
       "    </tr>\n",
       "  </tbody>\n",
       "</table>\n",
       "</div>"
      ],
      "text/plain": [
       "    variables         VIF\n",
       "0  child_mort    7.294127\n",
       "1     exports  116.652517\n",
       "2      health   18.818141\n",
       "3     imports  101.647811\n",
       "4      income   14.906308\n",
       "5   inflation    1.200193\n",
       "6  life_expec    6.006097\n",
       "7   total_fer    3.896214\n",
       "8        gdpp   49.647627"
      ]
     },
     "execution_count": 11,
     "metadata": {},
     "output_type": "execute_result"
    }
   ],
   "source": [
    "calc_vif(datm)"
   ]
  },
  {
   "attachments": {},
   "cell_type": "markdown",
   "metadata": {},
   "source": [
    "Since VIF is greater than 5 for exports, we will drop that variable from the analysis."
   ]
  },
  {
   "cell_type": "code",
   "execution_count": 12,
   "metadata": {},
   "outputs": [
    {
     "data": {
      "text/html": [
       "<div>\n",
       "<style scoped>\n",
       "    .dataframe tbody tr th:only-of-type {\n",
       "        vertical-align: middle;\n",
       "    }\n",
       "\n",
       "    .dataframe tbody tr th {\n",
       "        vertical-align: top;\n",
       "    }\n",
       "\n",
       "    .dataframe thead th {\n",
       "        text-align: right;\n",
       "    }\n",
       "</style>\n",
       "<table border=\"1\" class=\"dataframe\">\n",
       "  <thead>\n",
       "    <tr style=\"text-align: right;\">\n",
       "      <th></th>\n",
       "      <th>variables</th>\n",
       "      <th>VIF</th>\n",
       "    </tr>\n",
       "  </thead>\n",
       "  <tbody>\n",
       "    <tr>\n",
       "      <th>0</th>\n",
       "      <td>child_mort</td>\n",
       "      <td>7.291253</td>\n",
       "    </tr>\n",
       "    <tr>\n",
       "      <th>1</th>\n",
       "      <td>health</td>\n",
       "      <td>15.733260</td>\n",
       "    </tr>\n",
       "    <tr>\n",
       "      <th>2</th>\n",
       "      <td>imports</td>\n",
       "      <td>2.605620</td>\n",
       "    </tr>\n",
       "    <tr>\n",
       "      <th>3</th>\n",
       "      <td>income</td>\n",
       "      <td>13.106089</td>\n",
       "    </tr>\n",
       "    <tr>\n",
       "      <th>4</th>\n",
       "      <td>inflation</td>\n",
       "      <td>1.172755</td>\n",
       "    </tr>\n",
       "    <tr>\n",
       "      <th>5</th>\n",
       "      <td>life_expec</td>\n",
       "      <td>5.788959</td>\n",
       "    </tr>\n",
       "    <tr>\n",
       "      <th>6</th>\n",
       "      <td>total_fer</td>\n",
       "      <td>3.768304</td>\n",
       "    </tr>\n",
       "    <tr>\n",
       "      <th>7</th>\n",
       "      <td>gdpp</td>\n",
       "      <td>46.921736</td>\n",
       "    </tr>\n",
       "  </tbody>\n",
       "</table>\n",
       "</div>"
      ],
      "text/plain": [
       "    variables        VIF\n",
       "0  child_mort   7.291253\n",
       "1      health  15.733260\n",
       "2     imports   2.605620\n",
       "3      income  13.106089\n",
       "4   inflation   1.172755\n",
       "5  life_expec   5.788959\n",
       "6   total_fer   3.768304\n",
       "7        gdpp  46.921736"
      ]
     },
     "execution_count": 12,
     "metadata": {},
     "output_type": "execute_result"
    }
   ],
   "source": [
    "datm = datm.iloc[:,[1,0,2,3,4,5,6,7,8]]\n",
    "datm = datm.iloc[:,1:]\n",
    "calc_vif(datm)"
   ]
  },
  {
   "attachments": {},
   "cell_type": "markdown",
   "metadata": {},
   "source": [
    "Since VIF is greater than 5 for gdpp, we will drop that variable from the analysis."
   ]
  },
  {
   "cell_type": "code",
   "execution_count": 13,
   "metadata": {},
   "outputs": [
    {
     "data": {
      "text/html": [
       "<div>\n",
       "<style scoped>\n",
       "    .dataframe tbody tr th:only-of-type {\n",
       "        vertical-align: middle;\n",
       "    }\n",
       "\n",
       "    .dataframe tbody tr th {\n",
       "        vertical-align: top;\n",
       "    }\n",
       "\n",
       "    .dataframe thead th {\n",
       "        text-align: right;\n",
       "    }\n",
       "</style>\n",
       "<table border=\"1\" class=\"dataframe\">\n",
       "  <thead>\n",
       "    <tr style=\"text-align: right;\">\n",
       "      <th></th>\n",
       "      <th>variables</th>\n",
       "      <th>VIF</th>\n",
       "    </tr>\n",
       "  </thead>\n",
       "  <tbody>\n",
       "    <tr>\n",
       "      <th>0</th>\n",
       "      <td>child_mort</td>\n",
       "      <td>7.283204</td>\n",
       "    </tr>\n",
       "    <tr>\n",
       "      <th>1</th>\n",
       "      <td>health</td>\n",
       "      <td>2.369601</td>\n",
       "    </tr>\n",
       "    <tr>\n",
       "      <th>2</th>\n",
       "      <td>imports</td>\n",
       "      <td>2.070272</td>\n",
       "    </tr>\n",
       "    <tr>\n",
       "      <th>3</th>\n",
       "      <td>income</td>\n",
       "      <td>2.802828</td>\n",
       "    </tr>\n",
       "    <tr>\n",
       "      <th>4</th>\n",
       "      <td>inflation</td>\n",
       "      <td>1.168983</td>\n",
       "    </tr>\n",
       "    <tr>\n",
       "      <th>5</th>\n",
       "      <td>life_expec</td>\n",
       "      <td>5.775690</td>\n",
       "    </tr>\n",
       "    <tr>\n",
       "      <th>6</th>\n",
       "      <td>total_fer</td>\n",
       "      <td>3.706232</td>\n",
       "    </tr>\n",
       "  </tbody>\n",
       "</table>\n",
       "</div>"
      ],
      "text/plain": [
       "    variables       VIF\n",
       "0  child_mort  7.283204\n",
       "1      health  2.369601\n",
       "2     imports  2.070272\n",
       "3      income  2.802828\n",
       "4   inflation  1.168983\n",
       "5  life_expec  5.775690\n",
       "6   total_fer  3.706232"
      ]
     },
     "execution_count": 13,
     "metadata": {},
     "output_type": "execute_result"
    }
   ],
   "source": [
    "datm = datm.iloc[:,0:-1]\n",
    "calc_vif(datm)"
   ]
  },
  {
   "attachments": {},
   "cell_type": "markdown",
   "metadata": {},
   "source": [
    "Since VIF is greater than 5 for child_mort, we will drop that variable from the analysis."
   ]
  },
  {
   "cell_type": "code",
   "execution_count": 14,
   "metadata": {},
   "outputs": [
    {
     "data": {
      "text/html": [
       "<div>\n",
       "<style scoped>\n",
       "    .dataframe tbody tr th:only-of-type {\n",
       "        vertical-align: middle;\n",
       "    }\n",
       "\n",
       "    .dataframe tbody tr th {\n",
       "        vertical-align: top;\n",
       "    }\n",
       "\n",
       "    .dataframe thead th {\n",
       "        text-align: right;\n",
       "    }\n",
       "</style>\n",
       "<table border=\"1\" class=\"dataframe\">\n",
       "  <thead>\n",
       "    <tr style=\"text-align: right;\">\n",
       "      <th></th>\n",
       "      <th>variables</th>\n",
       "      <th>VIF</th>\n",
       "    </tr>\n",
       "  </thead>\n",
       "  <tbody>\n",
       "    <tr>\n",
       "      <th>0</th>\n",
       "      <td>health</td>\n",
       "      <td>2.337106</td>\n",
       "    </tr>\n",
       "    <tr>\n",
       "      <th>1</th>\n",
       "      <td>imports</td>\n",
       "      <td>2.068871</td>\n",
       "    </tr>\n",
       "    <tr>\n",
       "      <th>2</th>\n",
       "      <td>income</td>\n",
       "      <td>2.802648</td>\n",
       "    </tr>\n",
       "    <tr>\n",
       "      <th>3</th>\n",
       "      <td>inflation</td>\n",
       "      <td>1.161083</td>\n",
       "    </tr>\n",
       "    <tr>\n",
       "      <th>4</th>\n",
       "      <td>life_expec</td>\n",
       "      <td>2.995426</td>\n",
       "    </tr>\n",
       "    <tr>\n",
       "      <th>5</th>\n",
       "      <td>total_fer</td>\n",
       "      <td>2.528805</td>\n",
       "    </tr>\n",
       "  </tbody>\n",
       "</table>\n",
       "</div>"
      ],
      "text/plain": [
       "    variables       VIF\n",
       "0      health  2.337106\n",
       "1     imports  2.068871\n",
       "2      income  2.802648\n",
       "3   inflation  1.161083\n",
       "4  life_expec  2.995426\n",
       "5   total_fer  2.528805"
      ]
     },
     "execution_count": 14,
     "metadata": {},
     "output_type": "execute_result"
    }
   ],
   "source": [
    "datm = datm.iloc[:,1:]\n",
    "calc_vif(datm)"
   ]
  },
  {
   "attachments": {},
   "cell_type": "markdown",
   "metadata": {},
   "source": [
    "Now the VIF for all the remaining variables is less than 5."
   ]
  },
  {
   "cell_type": "code",
   "execution_count": 15,
   "metadata": {},
   "outputs": [
    {
     "data": {
      "text/html": [
       "<div>\n",
       "<style scoped>\n",
       "    .dataframe tbody tr th:only-of-type {\n",
       "        vertical-align: middle;\n",
       "    }\n",
       "\n",
       "    .dataframe tbody tr th {\n",
       "        vertical-align: top;\n",
       "    }\n",
       "\n",
       "    .dataframe thead th {\n",
       "        text-align: right;\n",
       "    }\n",
       "</style>\n",
       "<table border=\"1\" class=\"dataframe\">\n",
       "  <thead>\n",
       "    <tr style=\"text-align: right;\">\n",
       "      <th></th>\n",
       "      <th>country</th>\n",
       "      <th>health</th>\n",
       "      <th>imports</th>\n",
       "      <th>income</th>\n",
       "      <th>inflation</th>\n",
       "      <th>life_expec</th>\n",
       "      <th>total_fer</th>\n",
       "    </tr>\n",
       "  </thead>\n",
       "  <tbody>\n",
       "    <tr>\n",
       "      <th>0</th>\n",
       "      <td>Afghanistan</td>\n",
       "      <td>-0.565040</td>\n",
       "      <td>-0.432276</td>\n",
       "      <td>-0.808245</td>\n",
       "      <td>0.157336</td>\n",
       "      <td>-1.619092</td>\n",
       "      <td>1.902882</td>\n",
       "    </tr>\n",
       "    <tr>\n",
       "      <th>1</th>\n",
       "      <td>Albania</td>\n",
       "      <td>-0.439218</td>\n",
       "      <td>-0.313677</td>\n",
       "      <td>-0.375369</td>\n",
       "      <td>-0.312347</td>\n",
       "      <td>0.647866</td>\n",
       "      <td>-0.859973</td>\n",
       "    </tr>\n",
       "    <tr>\n",
       "      <th>2</th>\n",
       "      <td>Algeria</td>\n",
       "      <td>-0.484826</td>\n",
       "      <td>-0.353720</td>\n",
       "      <td>-0.220844</td>\n",
       "      <td>0.789274</td>\n",
       "      <td>0.670423</td>\n",
       "      <td>-0.038404</td>\n",
       "    </tr>\n",
       "    <tr>\n",
       "      <th>3</th>\n",
       "      <td>Angola</td>\n",
       "      <td>-0.532363</td>\n",
       "      <td>-0.345953</td>\n",
       "      <td>-0.585043</td>\n",
       "      <td>1.387054</td>\n",
       "      <td>-1.179234</td>\n",
       "      <td>2.128151</td>\n",
       "    </tr>\n",
       "    <tr>\n",
       "      <th>4</th>\n",
       "      <td>Antigua and Barbuda</td>\n",
       "      <td>-0.178771</td>\n",
       "      <td>0.040735</td>\n",
       "      <td>0.101732</td>\n",
       "      <td>-0.601749</td>\n",
       "      <td>0.704258</td>\n",
       "      <td>-0.541946</td>\n",
       "    </tr>\n",
       "  </tbody>\n",
       "</table>\n",
       "</div>"
      ],
      "text/plain": [
       "               country    health   imports    income  inflation  life_expec  \\\n",
       "0          Afghanistan -0.565040 -0.432276 -0.808245   0.157336   -1.619092   \n",
       "1              Albania -0.439218 -0.313677 -0.375369  -0.312347    0.647866   \n",
       "2              Algeria -0.484826 -0.353720 -0.220844   0.789274    0.670423   \n",
       "3               Angola -0.532363 -0.345953 -0.585043   1.387054   -1.179234   \n",
       "4  Antigua and Barbuda -0.178771  0.040735  0.101732  -0.601749    0.704258   \n",
       "\n",
       "   total_fer  \n",
       "0   1.902882  \n",
       "1  -0.859973  \n",
       "2  -0.038404  \n",
       "3   2.128151  \n",
       "4  -0.541946  "
      ]
     },
     "execution_count": 15,
     "metadata": {},
     "output_type": "execute_result"
    }
   ],
   "source": [
    "#Let's create a new matrix according to the scaled values of the final variables\n",
    "dcon = pd.concat([dat.loc[:,\"country\"],datm],axis=1)\n",
    "dcon.head()"
   ]
  },
  {
   "cell_type": "code",
   "execution_count": 16,
   "metadata": {},
   "outputs": [],
   "source": [
    "#Let's do the outlier analysis before proceeding to clustering\n",
    "#We can reassign the outliers to the clusters later.\n",
    "Qa = dcon.health.quantile(0.025)\n",
    "Qb = dcon.health.quantile(0.975)\n",
    "dcon = dcon[(dcon.health >= Qa) & (dcon.health <= Qb)]"
   ]
  },
  {
   "cell_type": "code",
   "execution_count": 17,
   "metadata": {},
   "outputs": [],
   "source": [
    "Qa = dcon.imports.quantile(0.025)\n",
    "Qb = dcon.imports.quantile(0.975)\n",
    "dcon = dcon[(dcon.imports >= Qa) & (dcon.imports <= Qb)]"
   ]
  },
  {
   "cell_type": "code",
   "execution_count": 18,
   "metadata": {},
   "outputs": [],
   "source": [
    "Qa = dcon.income.quantile(0.025)\n",
    "Qb = dcon.income.quantile(0.975)\n",
    "dcon = dcon[(dcon.income >= Qa) & (dcon.income <= Qb)]"
   ]
  },
  {
   "cell_type": "code",
   "execution_count": 19,
   "metadata": {},
   "outputs": [],
   "source": [
    "Qa = dcon.inflation.quantile(0.025)\n",
    "Qb = dcon.inflation.quantile(0.975)\n",
    "dcon = dcon[(dcon.inflation >= Qa) & (dcon.inflation <= Qb)]"
   ]
  },
  {
   "cell_type": "code",
   "execution_count": 20,
   "metadata": {},
   "outputs": [],
   "source": [
    "Qa = dcon.life_expec.quantile(0.025)\n",
    "Qb = dcon.life_expec.quantile(0.975)\n",
    "dcon = dcon[(dcon.life_expec >= Qa) & (dcon.life_expec <= Qb)]"
   ]
  },
  {
   "cell_type": "code",
   "execution_count": 21,
   "metadata": {},
   "outputs": [],
   "source": [
    "Qa = dcon.total_fer.quantile(0.025)\n",
    "Qb = dcon.total_fer.quantile(0.975)\n",
    "dcon = dcon[(dcon.total_fer >= Qa) & (dcon.total_fer <= Qb)]"
   ]
  },
  {
   "cell_type": "code",
   "execution_count": 22,
   "metadata": {},
   "outputs": [
    {
     "data": {
      "text/plain": [
       "(117, 7)"
      ]
     },
     "execution_count": 22,
     "metadata": {},
     "output_type": "execute_result"
    }
   ],
   "source": [
    "#Outlier analysis is now done. Let's check the data again.\n",
    "rows = list(dcon.index)\n",
    "dcon.rename(index={rows[i]:(i+1) for i in range(len(rows))}, inplace=True)\n",
    "dcon.shape"
   ]
  },
  {
   "attachments": {},
   "cell_type": "markdown",
   "metadata": {},
   "source": [
    "Out of 167 countries, 117 of them are remaining in our dataset after outlier analysis."
   ]
  },
  {
   "cell_type": "markdown",
   "metadata": {},
   "source": [
    "## Clustering"
   ]
  },
  {
   "cell_type": "markdown",
   "metadata": {},
   "source": [
    "As we checked previously the dataset looks of similar magnitude. Hence no further standardisation is necessary.\n",
    "Let's proceed to calculating the Hopkins statistic to ensure that the data is good for clustering.\n"
   ]
  },
  {
   "cell_type": "code",
   "execution_count": 23,
   "metadata": {},
   "outputs": [],
   "source": [
    "#Calculating the Hopkins statistic\n",
    "from sklearn.neighbors import NearestNeighbors\n",
    "from random import sample\n",
    "from numpy.random import uniform\n",
    "import numpy as np\n",
    "from math import isnan\n",
    " \n",
    "def hopkins(X):\n",
    "    d = X.shape[1]\n",
    "    #d = len(vars) # columns\n",
    "    n = len(X) # rows\n",
    "    m = int(0.1 * n) \n",
    "    nbrs = NearestNeighbors(n_neighbors=1).fit(X.values)\n",
    " \n",
    "    rand_X = sample(range(0, n, 1), m)\n",
    " \n",
    "    ujd = []\n",
    "    wjd = []\n",
    "    for j in range(0, m):\n",
    "        u_dist, _ = nbrs.kneighbors(uniform(np.amin(X,axis=0),np.amax(X,axis=0),d).reshape(1, -1), 2, return_distance=True)\n",
    "        ujd.append(u_dist[0][1])\n",
    "        w_dist, _ = nbrs.kneighbors(X.iloc[rand_X[j]].values.reshape(1, -1), 2, return_distance=True)\n",
    "        wjd.append(w_dist[0][1])\n",
    " \n",
    "    H = sum(ujd) / (sum(ujd) + sum(wjd))\n",
    "    if isnan(H):\n",
    "        print(ujd, wjd)\n",
    "        H = 0\n",
    " \n",
    "    return H"
   ]
  },
  {
   "cell_type": "code",
   "execution_count": 24,
   "metadata": {},
   "outputs": [
    {
     "data": {
      "text/plain": [
       "0.8284638475829533"
      ]
     },
     "execution_count": 24,
     "metadata": {},
     "output_type": "execute_result"
    }
   ],
   "source": [
    "#Let's check the Hopkins measure\n",
    "X = dcon.drop(['country'],axis=1)\n",
    "hopkins(X)"
   ]
  },
  {
   "attachments": {},
   "cell_type": "markdown",
   "metadata": {},
   "source": [
    "0.83 is a good Hopkins score. Hence the data is suitable for clustering. Preliminary check is now done."
   ]
  },
  {
   "attachments": {},
   "cell_type": "markdown",
   "metadata": {},
   "source": [
    "### K-Means Clustering"
   ]
  },
  {
   "cell_type": "code",
   "execution_count": 25,
   "metadata": {},
   "outputs": [],
   "source": [
    "#Let's check the Silhouette Score first to identify the ideal number of clusters\n",
    "from sklearn.metrics import silhouette_score\n",
    "sse_ = []\n",
    "for k in range(2, 10):\n",
    "    kmeans = KMeans(n_clusters=k).fit(X)\n",
    "    sse_.append([k, silhouette_score(X, kmeans.labels_)])"
   ]
  },
  {
   "cell_type": "code",
   "execution_count": 26,
   "metadata": {},
   "outputs": [
    {
     "data": {
      "image/png": "[encoded data removed]",
      "text/plain": [
       "<Figure size 640x480 with 1 Axes>"
      ]
     },
     "metadata": {},
     "output_type": "display_data"
    }
   ],
   "source": [
    "plt.plot(pd.DataFrame(sse_)[0], pd.DataFrame(sse_)[1]);"
   ]
  },
  {
   "cell_type": "code",
   "execution_count": 27,
   "metadata": {},
   "outputs": [
    {
     "data": {
      "text/plain": [
       "[<matplotlib.lines.Line2D at 0x23d83a034f0>]"
      ]
     },
     "execution_count": 27,
     "metadata": {},
     "output_type": "execute_result"
    },
    {
     "data": {
      "image/png": "[encoded data removed]",
      "text/plain": [
       "<Figure size 640x480 with 1 Axes>"
      ]
     },
     "metadata": {},
     "output_type": "display_data"
    }
   ],
   "source": [
    "#The Sihouette Score reaches a peak at around 3 clusters indicating that it might be the ideal number of clusters.\n",
    "#Let's use the elbow curve method to identify the ideal number of clusters.\n",
    "ssd = []\n",
    "for num_clusters in list(range(1,10)):\n",
    "    model_clus = KMeans(n_clusters = num_clusters, max_iter=50)\n",
    "    model_clus.fit(X)\n",
    "    ssd.append(model_clus.inertia_)\n",
    "\n",
    "plt.plot(ssd)"
   ]
  },
  {
   "cell_type": "code",
   "execution_count": 28,
   "metadata": {},
   "outputs": [
    {
     "data": {
      "text/html": [
       "<style>#sk-container-id-1 {color: black;background-color: white;}#sk-container-id-1 pre{padding: 0;}#sk-container-id-1 div.sk-toggleable {background-color: white;}#sk-container-id-1 label.sk-toggleable__label {cursor: pointer;display: block;width: 100%;margin-bottom: 0;padding: 0.3em;box-sizing: border-box;text-align: center;}#sk-container-id-1 label.sk-toggleable__label-arrow:before {content: \"▸\";float: left;margin-right: 0.25em;color: #696969;}#sk-container-id-1 label.sk-toggleable__label-arrow:hover:before {color: black;}#sk-container-id-1 div.sk-estimator:hover label.sk-toggleable__label-arrow:before {color: black;}#sk-container-id-1 div.sk-toggleable__content {max-height: 0;max-width: 0;overflow: hidden;text-align: left;background-color: #f0f8ff;}#sk-container-id-1 div.sk-toggleable__content pre {margin: 0.2em;color: black;border-radius: 0.25em;background-color: #f0f8ff;}#sk-container-id-1 input.sk-toggleable__control:checked~div.sk-toggleable__content {max-height: 200px;max-width: 100%;overflow: auto;}#sk-container-id-1 input.sk-toggleable__control:checked~label.sk-toggleable__label-arrow:before {content: \"▾\";}#sk-container-id-1 div.sk-estimator input.sk-toggleable__control:checked~label.sk-toggleable__label {background-color: #d4ebff;}#sk-container-id-1 div.sk-label input.sk-toggleable__control:checked~label.sk-toggleable__label {background-color: #d4ebff;}#sk-container-id-1 input.sk-hidden--visually {border: 0;clip: rect(1px 1px 1px 1px);clip: rect(1px, 1px, 1px, 1px);height: 1px;margin: -1px;overflow: hidden;padding: 0;position: absolute;width: 1px;}#sk-container-id-1 div.sk-estimator {font-family: monospace;background-color: #f0f8ff;border: 1px dotted black;border-radius: 0.25em;box-sizing: border-box;margin-bottom: 0.5em;}#sk-container-id-1 div.sk-estimator:hover {background-color: #d4ebff;}#sk-container-id-1 div.sk-parallel-item::after {content: \"\";width: 100%;border-bottom: 1px solid gray;flex-grow: 1;}#sk-container-id-1 div.sk-label:hover label.sk-toggleable__label {background-color: #d4ebff;}#sk-container-id-1 div.sk-serial::before {content: \"\";position: absolute;border-left: 1px solid gray;box-sizing: border-box;top: 0;bottom: 0;left: 50%;z-index: 0;}#sk-container-id-1 div.sk-serial {display: flex;flex-direction: column;align-items: center;background-color: white;padding-right: 0.2em;padding-left: 0.2em;position: relative;}#sk-container-id-1 div.sk-item {position: relative;z-index: 1;}#sk-container-id-1 div.sk-parallel {display: flex;align-items: stretch;justify-content: center;background-color: white;position: relative;}#sk-container-id-1 div.sk-item::before, #sk-container-id-1 div.sk-parallel-item::before {content: \"\";position: absolute;border-left: 1px solid gray;box-sizing: border-box;top: 0;bottom: 0;left: 50%;z-index: -1;}#sk-container-id-1 div.sk-parallel-item {display: flex;flex-direction: column;z-index: 1;position: relative;background-color: white;}#sk-container-id-1 div.sk-parallel-item:first-child::after {align-self: flex-end;width: 50%;}#sk-container-id-1 div.sk-parallel-item:last-child::after {align-self: flex-start;width: 50%;}#sk-container-id-1 div.sk-parallel-item:only-child::after {width: 0;}#sk-container-id-1 div.sk-dashed-wrapped {border: 1px dashed gray;margin: 0 0.4em 0.5em 0.4em;box-sizing: border-box;padding-bottom: 0.4em;background-color: white;}#sk-container-id-1 div.sk-label label {font-family: monospace;font-weight: bold;display: inline-block;line-height: 1.2em;}#sk-container-id-1 div.sk-label-container {text-align: center;}#sk-container-id-1 div.sk-container {/* jupyter's `normalize.less` sets `[hidden] { display: none; }` but bootstrap.min.css set `[hidden] { display: none !important; }` so we also need the `!important` here to be able to override the default hidden behavior on the sphinx rendered scikit-learn.org. See: https://github.com/scikit-learn/scikit-learn/issues/21755 */display: inline-block !important;position: relative;}#sk-container-id-1 div.sk-text-repr-fallback {display: none;}</style><div id=\"sk-container-id-1\" class=\"sk-top-container\"><div class=\"sk-text-repr-fallback\"><pre>KMeans(max_iter=50, n_clusters=5)</pre><b>In a Jupyter environment, please rerun this cell to show the HTML representation or trust the notebook. <br />On GitHub, the HTML representation is unable to render, please try loading this page with nbviewer.org.</b></div><div class=\"sk-container\" hidden><div class=\"sk-item\"><div class=\"sk-estimator sk-toggleable\"><input class=\"sk-toggleable__control sk-hidden--visually\" id=\"sk-estimator-id-1\" type=\"checkbox\" checked><label for=\"sk-estimator-id-1\" class=\"sk-toggleable__label sk-toggleable__label-arrow\">KMeans</label><div class=\"sk-toggleable__content\"><pre>KMeans(max_iter=50, n_clusters=5)</pre></div></div></div></div></div>"
      ],
      "text/plain": [
       "KMeans(max_iter=50, n_clusters=5)"
      ]
     },
     "execution_count": 28,
     "metadata": {},
     "output_type": "execute_result"
    }
   ],
   "source": [
    "# A distinct elbow is formed at around 1-6 clusters. \n",
    "# Let's finally create the clusters and see for ourselves which ones fare better.\n",
    "# We will choose 5 for the number of clusters as after the point k=5, the curve decreases in a linear fashion.\n",
    "# K-means with k=5 clusters\n",
    "model_clus5 = KMeans(n_clusters = 5, max_iter=50)\n",
    "model_clus5.fit(X)"
   ]
  },
  {
   "cell_type": "code",
   "execution_count": 29,
   "metadata": {},
   "outputs": [
    {
     "data": {
      "text/html": [
       "<div>\n",
       "<style scoped>\n",
       "    .dataframe tbody tr th:only-of-type {\n",
       "        vertical-align: middle;\n",
       "    }\n",
       "\n",
       "    .dataframe tbody tr th {\n",
       "        vertical-align: top;\n",
       "    }\n",
       "\n",
       "    .dataframe thead th {\n",
       "        text-align: right;\n",
       "    }\n",
       "</style>\n",
       "<table border=\"1\" class=\"dataframe\">\n",
       "  <thead>\n",
       "    <tr style=\"text-align: right;\">\n",
       "      <th></th>\n",
       "      <th>country</th>\n",
       "      <th>health</th>\n",
       "      <th>imports</th>\n",
       "      <th>income</th>\n",
       "      <th>inflation</th>\n",
       "      <th>life_expec</th>\n",
       "      <th>total_fer</th>\n",
       "      <th>ClusterID</th>\n",
       "    </tr>\n",
       "  </thead>\n",
       "  <tbody>\n",
       "    <tr>\n",
       "      <th>0</th>\n",
       "      <td>Afghanistan</td>\n",
       "      <td>-0.565040</td>\n",
       "      <td>-0.432276</td>\n",
       "      <td>-0.808245</td>\n",
       "      <td>0.157336</td>\n",
       "      <td>-1.619092</td>\n",
       "      <td>1.902882</td>\n",
       "      <td>3</td>\n",
       "    </tr>\n",
       "    <tr>\n",
       "      <th>1</th>\n",
       "      <td>Albania</td>\n",
       "      <td>-0.439218</td>\n",
       "      <td>-0.313677</td>\n",
       "      <td>-0.375369</td>\n",
       "      <td>-0.312347</td>\n",
       "      <td>0.647866</td>\n",
       "      <td>-0.859973</td>\n",
       "      <td>2</td>\n",
       "    </tr>\n",
       "    <tr>\n",
       "      <th>2</th>\n",
       "      <td>Algeria</td>\n",
       "      <td>-0.484826</td>\n",
       "      <td>-0.353720</td>\n",
       "      <td>-0.220844</td>\n",
       "      <td>0.789274</td>\n",
       "      <td>0.670423</td>\n",
       "      <td>-0.038404</td>\n",
       "      <td>4</td>\n",
       "    </tr>\n",
       "    <tr>\n",
       "      <th>3</th>\n",
       "      <td>Antigua and Barbuda</td>\n",
       "      <td>-0.178771</td>\n",
       "      <td>0.040735</td>\n",
       "      <td>0.101732</td>\n",
       "      <td>-0.601749</td>\n",
       "      <td>0.704258</td>\n",
       "      <td>-0.541946</td>\n",
       "      <td>2</td>\n",
       "    </tr>\n",
       "    <tr>\n",
       "      <th>4</th>\n",
       "      <td>Argentina</td>\n",
       "      <td>-0.123849</td>\n",
       "      <td>-0.336841</td>\n",
       "      <td>0.080920</td>\n",
       "      <td>1.244725</td>\n",
       "      <td>0.591474</td>\n",
       "      <td>-0.382933</td>\n",
       "      <td>4</td>\n",
       "    </tr>\n",
       "  </tbody>\n",
       "</table>\n",
       "</div>"
      ],
      "text/plain": [
       "               country    health   imports    income  inflation  life_expec  \\\n",
       "0          Afghanistan -0.565040 -0.432276 -0.808245   0.157336   -1.619092   \n",
       "1              Albania -0.439218 -0.313677 -0.375369  -0.312347    0.647866   \n",
       "2              Algeria -0.484826 -0.353720 -0.220844   0.789274    0.670423   \n",
       "3  Antigua and Barbuda -0.178771  0.040735  0.101732  -0.601749    0.704258   \n",
       "4            Argentina -0.123849 -0.336841  0.080920   1.244725    0.591474   \n",
       "\n",
       "   total_fer  ClusterID  \n",
       "0   1.902882          3  \n",
       "1  -0.859973          2  \n",
       "2  -0.038404          4  \n",
       "3  -0.541946          2  \n",
       "4  -0.382933          4  "
      ]
     },
     "execution_count": 29,
     "metadata": {},
     "output_type": "execute_result"
    }
   ],
   "source": [
    "dat4=dcon\n",
    "dat4.index = pd.RangeIndex(len(dat4.index))\n",
    "dat_km = pd.concat([dat4, pd.Series(model_clus5.labels_)], axis=1)\n",
    "dat_km.rename(columns = {0: \"ClusterID\"}, inplace = True)\n",
    "dat_km.head()"
   ]
  },
  {
   "cell_type": "code",
   "execution_count": 30,
   "metadata": {},
   "outputs": [
    {
     "data": {
      "text/plain": [
       "2    45\n",
       "3    22\n",
       "0    21\n",
       "4    16\n",
       "1    13\n",
       "Name: ClusterID, dtype: int64"
      ]
     },
     "execution_count": 30,
     "metadata": {},
     "output_type": "execute_result"
    }
   ],
   "source": [
    "dat_km['ClusterID'].value_counts()"
   ]
  },
  {
   "cell_type": "code",
   "execution_count": 31,
   "metadata": {},
   "outputs": [
    {
     "data": {
      "text/plain": [
       "<Axes: xlabel='imports', ylabel='inflation'>"
      ]
     },
     "execution_count": 31,
     "metadata": {},
     "output_type": "execute_result"
    },
    {
     "data": {
      "image/png": "[encoded data removed]",
      "text/plain": [
       "<Figure size 640x480 with 1 Axes>"
      ]
     },
     "metadata": {},
     "output_type": "display_data"
    }
   ],
   "source": [
    "#Each cluster has a good number of countries associated with it (at least 5% of the dataset under consideration)\n",
    "#Let's do some further visualizations.\n",
    "#We'll be visualising the clusters on 'imports', 'inflation', and 'health'.\n",
    "sns.scatterplot(x='imports',y='inflation',hue='ClusterID',legend='full',data=dat_km)"
   ]
  },
  {
   "cell_type": "code",
   "execution_count": 32,
   "metadata": {},
   "outputs": [
    {
     "data": {
      "text/plain": [
       "<Axes: xlabel='inflation', ylabel='health'>"
      ]
     },
     "execution_count": 32,
     "metadata": {},
     "output_type": "execute_result"
    },
    {
     "data": {
      "image/png": "[encoded data removed]",
      "text/plain": [
       "<Figure size 640x480 with 1 Axes>"
      ]
     },
     "metadata": {},
     "output_type": "display_data"
    }
   ],
   "source": [
    "sns.scatterplot(x='inflation',y='health',hue='ClusterID',data=dat_km)"
   ]
  },
  {
   "cell_type": "code",
   "execution_count": 33,
   "metadata": {},
   "outputs": [
    {
     "data": {
      "text/plain": [
       "<Axes: xlabel='health', ylabel='imports'>"
      ]
     },
     "execution_count": 33,
     "metadata": {},
     "output_type": "execute_result"
    },
    {
     "data": {
      "image/png": "[encoded data removed]",
      "text/plain": [
       "<Figure size 640x480 with 1 Axes>"
      ]
     },
     "metadata": {},
     "output_type": "display_data"
    }
   ],
   "source": [
    "sns.scatterplot(x='health',y='imports',hue='ClusterID',data=dat_km)"
   ]
  },
  {
   "cell_type": "code",
   "execution_count": 34,
   "metadata": {},
   "outputs": [
    {
     "data": {
      "text/html": [
       "<div>\n",
       "<style scoped>\n",
       "    .dataframe tbody tr th:only-of-type {\n",
       "        vertical-align: middle;\n",
       "    }\n",
       "\n",
       "    .dataframe tbody tr th {\n",
       "        vertical-align: top;\n",
       "    }\n",
       "\n",
       "    .dataframe thead th {\n",
       "        text-align: right;\n",
       "    }\n",
       "</style>\n",
       "<table border=\"1\" class=\"dataframe\">\n",
       "  <thead>\n",
       "    <tr style=\"text-align: right;\">\n",
       "      <th></th>\n",
       "      <th>ClusterID</th>\n",
       "      <th>Child_Mortality</th>\n",
       "      <th>Exports</th>\n",
       "      <th>Imports</th>\n",
       "      <th>Health_Spending</th>\n",
       "      <th>Income</th>\n",
       "      <th>Inflation</th>\n",
       "      <th>Life_Expectancy</th>\n",
       "      <th>Total_Fertility</th>\n",
       "      <th>GDPpcapita</th>\n",
       "    </tr>\n",
       "  </thead>\n",
       "  <tbody>\n",
       "    <tr>\n",
       "      <th>0</th>\n",
       "      <td>0</td>\n",
       "      <td>43.842857</td>\n",
       "      <td>1069.904667</td>\n",
       "      <td>1458.624190</td>\n",
       "      <td>167.608343</td>\n",
       "      <td>5734.761905</td>\n",
       "      <td>6.164762</td>\n",
       "      <td>66.790476</td>\n",
       "      <td>3.302857</td>\n",
       "      <td>2673.523810</td>\n",
       "    </tr>\n",
       "    <tr>\n",
       "      <th>1</th>\n",
       "      <td>1</td>\n",
       "      <td>4.323077</td>\n",
       "      <td>15738.907692</td>\n",
       "      <td>15413.138462</td>\n",
       "      <td>3992.779231</td>\n",
       "      <td>36715.384615</td>\n",
       "      <td>1.395154</td>\n",
       "      <td>80.630769</td>\n",
       "      <td>1.810769</td>\n",
       "      <td>39130.769231</td>\n",
       "    </tr>\n",
       "    <tr>\n",
       "      <th>2</th>\n",
       "      <td>2</td>\n",
       "      <td>15.673333</td>\n",
       "      <td>3734.125333</td>\n",
       "      <td>4076.865333</td>\n",
       "      <td>582.673533</td>\n",
       "      <td>14279.555556</td>\n",
       "      <td>3.925133</td>\n",
       "      <td>75.106667</td>\n",
       "      <td>1.986667</td>\n",
       "      <td>8357.777778</td>\n",
       "    </tr>\n",
       "    <tr>\n",
       "      <th>3</th>\n",
       "      <td>3</td>\n",
       "      <td>81.009091</td>\n",
       "      <td>1299.147136</td>\n",
       "      <td>983.661000</td>\n",
       "      <td>114.050582</td>\n",
       "      <td>4862.727273</td>\n",
       "      <td>9.857500</td>\n",
       "      <td>61.963636</td>\n",
       "      <td>4.955455</td>\n",
       "      <td>2258.818182</td>\n",
       "    </tr>\n",
       "    <tr>\n",
       "      <th>4</th>\n",
       "      <td>4</td>\n",
       "      <td>21.506250</td>\n",
       "      <td>3311.860850</td>\n",
       "      <td>2401.538625</td>\n",
       "      <td>339.143188</td>\n",
       "      <td>17514.375000</td>\n",
       "      <td>16.106250</td>\n",
       "      <td>72.256250</td>\n",
       "      <td>2.243125</td>\n",
       "      <td>7237.625000</td>\n",
       "    </tr>\n",
       "  </tbody>\n",
       "</table>\n",
       "</div>"
      ],
      "text/plain": [
       "   ClusterID  Child_Mortality       Exports       Imports  Health_Spending  \\\n",
       "0          0        43.842857   1069.904667   1458.624190       167.608343   \n",
       "1          1         4.323077  15738.907692  15413.138462      3992.779231   \n",
       "2          2        15.673333   3734.125333   4076.865333       582.673533   \n",
       "3          3        81.009091   1299.147136    983.661000       114.050582   \n",
       "4          4        21.506250   3311.860850   2401.538625       339.143188   \n",
       "\n",
       "         Income  Inflation  Life_Expectancy  Total_Fertility    GDPpcapita  \n",
       "0   5734.761905   6.164762        66.790476         3.302857   2673.523810  \n",
       "1  36715.384615   1.395154        80.630769         1.810769  39130.769231  \n",
       "2  14279.555556   3.925133        75.106667         1.986667   8357.777778  \n",
       "3   4862.727273   9.857500        61.963636         4.955455   2258.818182  \n",
       "4  17514.375000  16.106250        72.256250         2.243125   7237.625000  "
      ]
     },
     "execution_count": 34,
     "metadata": {},
     "output_type": "execute_result"
    }
   ],
   "source": [
    "#One thing we noticed is some even though some distinct clusters are being formed, some are not so good.\n",
    "#Now let's create the cluster means w.r.t. to the various variables mentioned in the question and plot to see how they are related.\n",
    "dat_km1=dat_km[['country', 'ClusterID']]\n",
    "dat5=pd.merge(dat,dat_km1,on='country')\n",
    "dat6=dat5[['country','child_mort','exports','imports','health','income','inflation','life_expec','total_fer','gdpp','ClusterID']]\n",
    "clu_chi = \tpd.DataFrame(dat6.groupby([\"ClusterID\"]).child_mort.mean())\n",
    "clu_exp= \tpd.DataFrame(dat6.groupby([\"ClusterID\"]).exports.mean())\n",
    "clu_imp = \tpd.DataFrame(dat6.groupby([\"ClusterID\"]).imports.mean())\n",
    "clu_hea = \tpd.DataFrame(dat6.groupby([\"ClusterID\"]).health.mean())\n",
    "clu_inc = \tpd.DataFrame(dat6.groupby([\"ClusterID\"]).income.mean())\n",
    "clu_inf = \tpd.DataFrame(dat6.groupby([\"ClusterID\"]).inflation.mean())         \n",
    "clu_lif = \tpd.DataFrame(dat6.groupby([\"ClusterID\"]).life_expec.mean())\n",
    "clu_tot = \tpd.DataFrame(dat6.groupby([\"ClusterID\"]).total_fer.mean())\n",
    "clu_gdpp = \tpd.DataFrame(dat6.groupby([\"ClusterID\"]).gdpp.mean())\n",
    "\n",
    "df = pd.concat([pd.Series([0,1,2,3,4]),clu_chi,clu_exp,clu_imp,clu_hea,clu_inc,clu_inf,clu_lif,clu_tot,clu_gdpp], axis=1)\n",
    "df.columns = [\"ClusterID\", \"Child_Mortality\", \"Exports\", \"Imports\",\"Health_Spending\",\"Income\",\"Inflation\",\"Life_Expectancy\",\"Total_Fertility\",\"GDPpcapita\"]\n",
    "df"
   ]
  },
  {
   "attachments": {},
   "cell_type": "markdown",
   "metadata": {},
   "source": [
    "We observe that child mortality, health spending, life expectancy and GDP per capita are good predictors for the development of a country. Let's visualise the clusters along these."
   ]
  },
  {
   "cell_type": "code",
   "execution_count": 38,
   "metadata": {},
   "outputs": [
    {
     "data": {
      "text/plain": [
       "<Axes: xlabel='child_mort', ylabel='health'>"
      ]
     },
     "execution_count": 38,
     "metadata": {},
     "output_type": "execute_result"
    },
    {
     "data": {
      "image/png": "[encoded data removed]",
      "text/plain": [
       "<Figure size 640x480 with 1 Axes>"
      ]
     },
     "metadata": {},
     "output_type": "display_data"
    }
   ],
   "source": [
    "#Along child-mortality and health spending\n",
    "sns.scatterplot(x='child_mort',y='health',hue='ClusterID',data=dat6)"
   ]
  },
  {
   "cell_type": "code",
   "execution_count": 39,
   "metadata": {},
   "outputs": [
    {
     "data": {
      "text/html": [
       "<div>\n",
       "<style scoped>\n",
       "    .dataframe tbody tr th:only-of-type {\n",
       "        vertical-align: middle;\n",
       "    }\n",
       "\n",
       "    .dataframe tbody tr th {\n",
       "        vertical-align: top;\n",
       "    }\n",
       "\n",
       "    .dataframe thead th {\n",
       "        text-align: right;\n",
       "    }\n",
       "</style>\n",
       "<table border=\"1\" class=\"dataframe\">\n",
       "  <thead>\n",
       "    <tr style=\"text-align: right;\">\n",
       "      <th></th>\n",
       "      <th>country</th>\n",
       "      <th>child_mort</th>\n",
       "      <th>exports</th>\n",
       "      <th>imports</th>\n",
       "      <th>health</th>\n",
       "      <th>income</th>\n",
       "      <th>inflation</th>\n",
       "      <th>life_expec</th>\n",
       "      <th>total_fer</th>\n",
       "      <th>gdpp</th>\n",
       "      <th>ClusterID</th>\n",
       "    </tr>\n",
       "  </thead>\n",
       "  <tbody>\n",
       "    <tr>\n",
       "      <th>6</th>\n",
       "      <td>Austria</td>\n",
       "      <td>4.3</td>\n",
       "      <td>24059.7</td>\n",
       "      <td>22418.2</td>\n",
       "      <td>5159.00</td>\n",
       "      <td>43200</td>\n",
       "      <td>0.873</td>\n",
       "      <td>80.5</td>\n",
       "      <td>1.44</td>\n",
       "      <td>46900</td>\n",
       "      <td>1</td>\n",
       "    </tr>\n",
       "    <tr>\n",
       "      <th>22</th>\n",
       "      <td>Canada</td>\n",
       "      <td>5.6</td>\n",
       "      <td>13793.4</td>\n",
       "      <td>14694.0</td>\n",
       "      <td>5356.20</td>\n",
       "      <td>40700</td>\n",
       "      <td>2.870</td>\n",
       "      <td>81.3</td>\n",
       "      <td>1.63</td>\n",
       "      <td>47400</td>\n",
       "      <td>1</td>\n",
       "    </tr>\n",
       "    <tr>\n",
       "      <th>32</th>\n",
       "      <td>Cyprus</td>\n",
       "      <td>3.6</td>\n",
       "      <td>15461.6</td>\n",
       "      <td>17710.0</td>\n",
       "      <td>1838.76</td>\n",
       "      <td>33900</td>\n",
       "      <td>2.010</td>\n",
       "      <td>79.9</td>\n",
       "      <td>1.42</td>\n",
       "      <td>30800</td>\n",
       "      <td>1</td>\n",
       "    </tr>\n",
       "    <tr>\n",
       "      <th>40</th>\n",
       "      <td>Finland</td>\n",
       "      <td>3.0</td>\n",
       "      <td>17879.4</td>\n",
       "      <td>17278.8</td>\n",
       "      <td>4134.90</td>\n",
       "      <td>39800</td>\n",
       "      <td>0.351</td>\n",
       "      <td>80.0</td>\n",
       "      <td>1.87</td>\n",
       "      <td>46200</td>\n",
       "      <td>1</td>\n",
       "    </tr>\n",
       "    <tr>\n",
       "      <th>41</th>\n",
       "      <td>France</td>\n",
       "      <td>4.2</td>\n",
       "      <td>10880.8</td>\n",
       "      <td>11408.6</td>\n",
       "      <td>4831.40</td>\n",
       "      <td>36900</td>\n",
       "      <td>1.050</td>\n",
       "      <td>81.4</td>\n",
       "      <td>2.03</td>\n",
       "      <td>40600</td>\n",
       "      <td>1</td>\n",
       "    </tr>\n",
       "    <tr>\n",
       "      <th>45</th>\n",
       "      <td>Germany</td>\n",
       "      <td>4.2</td>\n",
       "      <td>17681.4</td>\n",
       "      <td>15507.8</td>\n",
       "      <td>4848.80</td>\n",
       "      <td>40400</td>\n",
       "      <td>0.758</td>\n",
       "      <td>80.1</td>\n",
       "      <td>1.39</td>\n",
       "      <td>41800</td>\n",
       "      <td>1</td>\n",
       "    </tr>\n",
       "    <tr>\n",
       "      <th>47</th>\n",
       "      <td>Greece</td>\n",
       "      <td>3.9</td>\n",
       "      <td>5944.9</td>\n",
       "      <td>8258.3</td>\n",
       "      <td>2770.70</td>\n",
       "      <td>28700</td>\n",
       "      <td>0.673</td>\n",
       "      <td>80.4</td>\n",
       "      <td>1.48</td>\n",
       "      <td>26900</td>\n",
       "      <td>1</td>\n",
       "    </tr>\n",
       "    <tr>\n",
       "      <th>56</th>\n",
       "      <td>Israel</td>\n",
       "      <td>4.6</td>\n",
       "      <td>10710.0</td>\n",
       "      <td>10067.4</td>\n",
       "      <td>2334.78</td>\n",
       "      <td>29600</td>\n",
       "      <td>1.770</td>\n",
       "      <td>81.4</td>\n",
       "      <td>3.03</td>\n",
       "      <td>30600</td>\n",
       "      <td>1</td>\n",
       "    </tr>\n",
       "    <tr>\n",
       "      <th>78</th>\n",
       "      <td>Netherlands</td>\n",
       "      <td>4.5</td>\n",
       "      <td>36216.0</td>\n",
       "      <td>31990.8</td>\n",
       "      <td>5985.70</td>\n",
       "      <td>45500</td>\n",
       "      <td>0.848</td>\n",
       "      <td>80.7</td>\n",
       "      <td>1.79</td>\n",
       "      <td>50300</td>\n",
       "      <td>1</td>\n",
       "    </tr>\n",
       "    <tr>\n",
       "      <th>79</th>\n",
       "      <td>New Zealand</td>\n",
       "      <td>6.2</td>\n",
       "      <td>10211.1</td>\n",
       "      <td>9436.0</td>\n",
       "      <td>3403.70</td>\n",
       "      <td>32300</td>\n",
       "      <td>3.730</td>\n",
       "      <td>80.9</td>\n",
       "      <td>2.17</td>\n",
       "      <td>33700</td>\n",
       "      <td>1</td>\n",
       "    </tr>\n",
       "    <tr>\n",
       "      <th>87</th>\n",
       "      <td>Portugal</td>\n",
       "      <td>3.9</td>\n",
       "      <td>6727.5</td>\n",
       "      <td>8415.0</td>\n",
       "      <td>2475.00</td>\n",
       "      <td>27200</td>\n",
       "      <td>0.643</td>\n",
       "      <td>79.8</td>\n",
       "      <td>1.39</td>\n",
       "      <td>22500</td>\n",
       "      <td>1</td>\n",
       "    </tr>\n",
       "    <tr>\n",
       "      <th>101</th>\n",
       "      <td>Sweden</td>\n",
       "      <td>3.0</td>\n",
       "      <td>24070.2</td>\n",
       "      <td>21204.7</td>\n",
       "      <td>5017.23</td>\n",
       "      <td>42900</td>\n",
       "      <td>0.991</td>\n",
       "      <td>81.5</td>\n",
       "      <td>1.98</td>\n",
       "      <td>52100</td>\n",
       "      <td>1</td>\n",
       "    </tr>\n",
       "    <tr>\n",
       "      <th>111</th>\n",
       "      <td>United Kingdom</td>\n",
       "      <td>5.2</td>\n",
       "      <td>10969.8</td>\n",
       "      <td>11981.2</td>\n",
       "      <td>3749.96</td>\n",
       "      <td>36200</td>\n",
       "      <td>1.570</td>\n",
       "      <td>80.3</td>\n",
       "      <td>1.92</td>\n",
       "      <td>38900</td>\n",
       "      <td>1</td>\n",
       "    </tr>\n",
       "  </tbody>\n",
       "</table>\n",
       "</div>"
      ],
      "text/plain": [
       "            country  child_mort  exports  imports   health  income  inflation  \\\n",
       "6           Austria         4.3  24059.7  22418.2  5159.00   43200      0.873   \n",
       "22           Canada         5.6  13793.4  14694.0  5356.20   40700      2.870   \n",
       "32           Cyprus         3.6  15461.6  17710.0  1838.76   33900      2.010   \n",
       "40          Finland         3.0  17879.4  17278.8  4134.90   39800      0.351   \n",
       "41           France         4.2  10880.8  11408.6  4831.40   36900      1.050   \n",
       "45          Germany         4.2  17681.4  15507.8  4848.80   40400      0.758   \n",
       "47           Greece         3.9   5944.9   8258.3  2770.70   28700      0.673   \n",
       "56           Israel         4.6  10710.0  10067.4  2334.78   29600      1.770   \n",
       "78      Netherlands         4.5  36216.0  31990.8  5985.70   45500      0.848   \n",
       "79      New Zealand         6.2  10211.1   9436.0  3403.70   32300      3.730   \n",
       "87         Portugal         3.9   6727.5   8415.0  2475.00   27200      0.643   \n",
       "101          Sweden         3.0  24070.2  21204.7  5017.23   42900      0.991   \n",
       "111  United Kingdom         5.2  10969.8  11981.2  3749.96   36200      1.570   \n",
       "\n",
       "     life_expec  total_fer   gdpp  ClusterID  \n",
       "6          80.5       1.44  46900          1  \n",
       "22         81.3       1.63  47400          1  \n",
       "32         79.9       1.42  30800          1  \n",
       "40         80.0       1.87  46200          1  \n",
       "41         81.4       2.03  40600          1  \n",
       "45         80.1       1.39  41800          1  \n",
       "47         80.4       1.48  26900          1  \n",
       "56         81.4       3.03  30600          1  \n",
       "78         80.7       1.79  50300          1  \n",
       "79         80.9       2.17  33700          1  \n",
       "87         79.8       1.39  22500          1  \n",
       "101        81.5       1.98  52100          1  \n",
       "111        80.3       1.92  38900          1  "
      ]
     },
     "execution_count": 39,
     "metadata": {},
     "output_type": "execute_result"
    }
   ],
   "source": [
    "#let's take a look at those countries clusters and try to make sense if the clustering process worked well.\n",
    "# Cluster 1 consists of countries which have good development indicators.\n",
    "dat6[dat6['ClusterID']==1]"
   ]
  },
  {
   "cell_type": "code",
   "execution_count": 41,
   "metadata": {},
   "outputs": [
    {
     "data": {
      "text/plain": [
       "<Axes: xlabel='income', ylabel='gdpp'>"
      ]
     },
     "execution_count": 41,
     "metadata": {},
     "output_type": "execute_result"
    },
    {
     "data": {
      "image/png": "[encoded data removed]",
      "text/plain": [
       "<Figure size 640x480 with 1 Axes>"
      ]
     },
     "metadata": {},
     "output_type": "display_data"
    }
   ],
   "source": [
    "#K-means has done a satisfactory job here. Let's take a different approach and make the clusters only on the basis of these.\n",
    "sns.scatterplot(x='income',y='gdpp',data=dat6)"
   ]
  },
  {
   "attachments": {},
   "cell_type": "markdown",
   "metadata": {},
   "source": [
    "###  From the clusters it is observed that cluster 0 and 3 have pretty low values of the six indicators that we chose. Hence these are the countries that we need to focus."
   ]
  },
  {
   "attachments": {},
   "cell_type": "markdown",
   "metadata": {},
   "source": [
    "#### Final result : We use the clusters formed during K-Means clustering to find the countries that we require. We conclude that Cluster 0 and 3 might be the ones which has a proper need of aid."
   ]
  },
  {
   "attachments": {},
   "cell_type": "markdown",
   "metadata": {},
   "source": [
    "###  Note 1\n",
    "For outliers that we removed before clustering took place, you can take any approach to include them in the final list of countries that you'd focus on. Either reassign them to the clusters that were formed and see if Cluster 0 and Cluster 3 have any more countries. Or use one variable from some of the main indicators to bin the entire 167 countries. Like if you take GDPP, keep the bin limits as 0-2300, 2300-2700, 2700-7200, 7200-8400 and >8400. The bin limits are decided on the basis of the approximate gdpp means that we got for the 5 clusters. Categorise all the countries from the original dataset within these limits and then take all the countries less than 2300 as the cutoff. Similarly, proceed for the 2nd variable. Any other logically thought out approach also works."
   ]
  },
  {
   "cell_type": "code",
   "execution_count": 56,
   "metadata": {},
   "outputs": [
    {
     "name": "stdout",
     "output_type": "stream",
     "text": [
      "country         Yemen\n",
      "child_mort      116.0\n",
      "exports       14671.8\n",
      "imports       10071.9\n",
      "health         766.08\n",
      "income          33700\n",
      "inflation        24.9\n",
      "life_expec       68.2\n",
      "total_fer        5.87\n",
      "gdpp            17100\n",
      "ClusterID           3\n",
      "dtype: object\n",
      "child_mort      78.5000\n",
      "exports        269.9100\n",
      "imports        375.6365\n",
      "health          57.8575\n",
      "income        2330.0000\n",
      "inflation        6.8100\n",
      "life_expec      62.0000\n",
      "total_fer        4.9650\n",
      "gdpp          1100.0000\n",
      "ClusterID        3.0000\n",
      "dtype: float64\n"
     ]
    }
   ],
   "source": [
    "p=dat6[dat6['ClusterID']==3]\n",
    "print(p.max())\n",
    "print(p.median())"
   ]
  }
 ],
 "metadata": {
  "kernelspec": {
   "display_name": "Python 3",
   "language": "python",
   "name": "python3"
  },
  "language_info": {
   "codemirror_mode": {
    "name": "ipython",
    "version": 3
   },
   "file_extension": ".py",
   "mimetype": "text/x-python",
   "name": "python",
   "nbconvert_exporter": "python",
   "pygments_lexer": "ipython3",
   "version": "3.10.0"
  }
 },
 "nbformat": 4,
 "nbformat_minor": 2
}
